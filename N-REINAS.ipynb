{
 "cells": [
  {
   "cell_type": "markdown",
   "metadata": {},
   "source": [
    "# N-Reinas\n",
    "## Integrantes:\n",
    "#### Mauricio Santiago Valdovinos Morales\n",
    "#### Carlos Xavier Gallardo Rosas\n",
    "#### Sergio ALberto Arce Ruelas"
   ]
  },
  {
   "cell_type": "code",
   "execution_count": 4,
   "metadata": {
    "collapsed": true
   },
   "outputs": [],
   "source": [
    "import pickle\n",
    "import numpy as np\n",
    "import random\n",
    "import collections\n",
    "import matplotlib.pyplot as plt\n",
    "\n",
    "import matplotlib as mpl\n",
    "import matplotlib.patches as mpatches\n",
    "from matplotlib.ticker import AutoMinorLocator\n",
    "import networkx as nx\n",
    "import warnings\n",
    "warnings.filterwarnings(\"ignore\")"
   ]
  },
  {
   "cell_type": "code",
   "execution_count": 5,
   "metadata": {
    "collapsed": true
   },
   "outputs": [],
   "source": [
    "np.random.seed(69)\n",
    "random.seed(69)"
   ]
  },
  {
   "cell_type": "code",
   "execution_count": 6,
   "metadata": {
    "collapsed": true
   },
   "outputs": [],
   "source": [
    "class Individual:\n",
    "    def __init__(self,N,fila=None): #Constructor de la clase\n",
    "        self.N = N #Numero de Reinas\n",
    "        self.fila = np.random.permutation(N)[:N] #lista con las posiciones de las reinas\n",
    "            \n",
    "    def __repr__(self):\n",
    "        return str(self.fila)\n",
    "    \n",
    "    def fitness(self): #Funcion de aptitud en donde se suman la cantidad de reinas que pueden comerse\n",
    "        return self.laterales() + self.diagonal()\n",
    "    \n",
    "    def laterales(self): #Busca cuantas reinas a los lados de cada una\n",
    "        nl = 0\n",
    "        for i in self.fila:\n",
    "            for j in self.fila:\n",
    "                if i == j:\n",
    "                    nl+=1\n",
    "        nl = nl - self.N\n",
    "        return nl\n",
    "    \n",
    "    def diagonal(self):# Busca cuantas reinas hay en las diagonales de cada una\n",
    "        rd = 0\n",
    "        for i in range(len(self.fila)-1):\n",
    "            \n",
    "            if i != self.N and self.fila[i] != self.N-1:\n",
    "                #Diagonal Abajo\n",
    "                for n in range(1,len(self.fila)):\n",
    "                        if n+i < self.N and self.fila[i]+n == self.fila[n+i]:\n",
    "                            rd+=1\n",
    "                            \n",
    "            if i != self.N and self.fila[i] != 0:\n",
    "                #Diagonal Arriba\n",
    "                for n in range(1,len(self.fila)):\n",
    "                        if n+i < self.N and self.fila[i]-n == self.fila[n+i]:\n",
    "                            rd+=1\n",
    "        return rd\n",
    "\n",
    "def crossover(P1,P2): #Funcion de cruce donde se generan los hijos o la nueva generacion\n",
    "    t1 = np.copy(P1.fila)\n",
    "    t2 = np.copy(P2.fila)\n",
    "    point = random.randint(0,5) #punto donde se realizara el corte de los padres para generar los hijos\n",
    "    h1 = np.copy(np.concatenate((t1[:point],t2[point:])))\n",
    "    h2 = np.copy(np.concatenate((t2[:point],t1[point:])))\n",
    "    return Individual(P1.N,h1), Individual(P2.N,h2)\n",
    "\n",
    "def mutation(I): #Funcion de mutacion\n",
    "    point = random.randint(0,I.N-1)\n",
    "    while True:\n",
    "        new = random.choice(range(I.N-1))\n",
    "        if new != I.fila[point]: #Se verifica que el numero aleatorio generado no sea el mismo que el que ya estaba\n",
    "            I.fila[point] = new\n",
    "            break"
   ]
  },
  {
   "cell_type": "code",
   "execution_count": 7,
   "metadata": {
    "collapsed": true
   },
   "outputs": [],
   "source": [
    "#DIbujar una grafica con las estadisticas de los fitness de todas las generaciones\n",
    "def Grafica(s):\n",
    "    plt.close('all')\n",
    "    plt.plot(s['max'],'g',label = 'max')\n",
    "    plt.plot(s['min'],'r',label = 'min')\n",
    "    plt.plot(s['avg'],'b',label = 'avg')\n",
    "    plt.legend()\n",
    "    plt.show()"
   ]
  },
  {
   "cell_type": "code",
   "execution_count": 8,
   "metadata": {
    "collapsed": true
   },
   "outputs": [],
   "source": [
    "#Algoritmo Genetico\n",
    "def AlGenetico(R):\n",
    "    G = 1000#Num. Generaciones\n",
    "    N = 10 #Poblacion\n",
    "    pM = .1 #Probabilidad de mutacion\n",
    "    #Crear la poblacion\n",
    "    population = [Individual(R) for i in range(N)]\n",
    "    #Diccionario con las estadisticas de las generaciones\n",
    "    stats = {'max':[],'min':[],'avg':[]}\n",
    "    for g in range(G):\n",
    "        fitness_values = [x.fitness() for x in population]\n",
    "        stats['max'].append(max(fitness_values)) \n",
    "        stats['min'].append(min(fitness_values))\n",
    "        stats['avg'].append(sum(fitness_values)/N)\n",
    "        hijos = []\n",
    "        #print(population)\n",
    "        for i in range(N//2):\n",
    "            idx_p1 = random.randint(0,N-1)#elegir los tableros que tendran nueva generacion de forma aleatoria\n",
    "            idx_p2 = random.randint(0,N-1)\n",
    "            while True:\n",
    "                if idx_p1 != idx_p2:\n",
    "                    break\n",
    "                idx_p2 = random.randint(0,N-1)\n",
    "            h1,h2 = crossover(population[idx_p1],population[idx_p2]) #Sale la nueva generacion\n",
    "            if random.random() <= pM: #ver si se le el hijo uno muta\n",
    "                mutation(h1)\n",
    "            if random.random() <= pM: #ver si se le el hijo dos muta\n",
    "                mutation(h2)\n",
    "            hijos.append(h1)\n",
    "            hijos.append(h2)\n",
    "\n",
    "        todos = population+hijos\n",
    "        todos.sort(key=lambda x:+x.fitness()) #Ordenar toda la poblacion de menor a mayor segun el fitness\n",
    "        population = todos[:N] #agarrar los primeros 10 de toda la poblacion\n",
    "    return population,stats"
   ]
  },
  {
   "cell_type": "code",
   "execution_count": 10,
   "metadata": {
    "collapsed": true
   },
   "outputs": [],
   "source": [
    "#Generar tablero con 1 y 0\n",
    "def Tablero(n): \n",
    "    for i in range(n):\n",
    "        aux = ''\n",
    "        for j in range(n):\n",
    "            if i%2 == 0:\n",
    "                if j%2 == 0:\n",
    "                    aux = str(aux) + '0'\n",
    "                else:\n",
    "                    aux = str(aux) + '1'\n",
    "            else:\n",
    "                if j%2 == 0:\n",
    "                    aux = str(aux) + '1'\n",
    "                else:\n",
    "                    aux = str(aux) + '0'\n",
    "        matriz.append(aux)"
   ]
  },
  {
   "cell_type": "code",
   "execution_count": 9,
   "metadata": {
    "collapsed": true
   },
   "outputs": [],
   "source": [
    "#posicionar las reinas en el tablero generado segun el reultado final\n",
    "def Queen(matriz,reinas): \n",
    "    s = ''\n",
    "    for i in range(Reinas):\n",
    "        s = matriz[reinas.fila[i]]\n",
    "        s = list(s)\n",
    "        s[i] = '2'\n",
    "        s = ''.join(s)\n",
    "        matriz[reinas.fila[i]] = s"
   ]
  },
  {
   "cell_type": "code",
   "execution_count": 11,
   "metadata": {
    "collapsed": true
   },
   "outputs": [],
   "source": [
    "#Dibujar el tablero en base a un archivo de texto generado con el tablero\n",
    "def plot_Tablero(tablero,sequence=None): \n",
    "    M = np.loadtxt(tablero) \n",
    "    cmap = mpl.cm.get_cmap('Greys') #viridis,\n",
    "    norm = mpl.colors.Normalize(vmin=0,vmax=2)\n",
    "    labels = 'Queen'\n",
    "    handles=[mpatches.Patch(color= 'black', label=labels)]\n",
    "    plt.close('all')\n",
    "    plt.figure(figsize=(10,10))\n",
    "    ax = plt.gca()    \n",
    "    plt.imshow(M,origin='upper', interpolation='nearest', cmap=cmap)\n",
    "    if sequence != None:\n",
    "        for idx,s in enumerate(sequence):        \n",
    "            plt.text(s[0], s[1], idx,\n",
    "                     horizontalalignment='center',\n",
    "                     verticalalignment='center',\n",
    "                     color='black')\n",
    "    legend = plt.legend(loc='best',handles=handles,bbox_to_anchor=(1.3,1))     \n",
    "    plt.show()"
   ]
  },
  {
   "cell_type": "code",
   "execution_count": 14,
   "metadata": {},
   "outputs": [
    {
     "name": "stdout",
     "output_type": "stream",
     "text": [
      "\tN-REINAS\n",
      "Numero de reinas: \n",
      "8\n",
      "[4 6 3 0 2 7 5 1] Fitness:  0\n",
      "[3 6 2 7 1 4 0 5] Fitness:  0\n",
      "[6 2 0 5 7 4 1 3] Fitness:  0\n",
      "[4 6 1 5 2 0 7 3] Fitness:  0\n",
      "[2 4 1 7 0 6 3 5] Fitness:  0\n",
      "[4 7 3 0 6 1 5 2] Fitness:  0\n",
      "[4 6 1 3 7 0 2 5] Fitness:  0\n",
      "[2 5 1 6 4 0 7 3] Fitness:  0\n",
      "[5 3 6 0 2 4 1 7] Fitness:  0\n",
      "[4 7 3 0 6 1 5 2] Fitness:  0\n",
      "\tGrafica\n"
     ]
    },
    {
     "data": {
      "image/png": "[encoded data removed]",
      "text/plain": [
       "<matplotlib.figure.Figure at 0x22c941b9978>"
      ]
     },
     "metadata": {},
     "output_type": "display_data"
    },
    {
     "name": "stdout",
     "output_type": "stream",
     "text": [
      "01010101\n",
      "10101010\n",
      "01010101\n",
      "10101010\n",
      "01010101\n",
      "10101010\n",
      "01010101\n",
      "10101010\n",
      "01020101\n",
      "10101012\n",
      "01012101\n",
      "10201010\n",
      "21010101\n",
      "10101020\n",
      "02010101\n",
      "10101210\n"
     ]
    },
    {
     "data": {
      "image/png": "[encoded data removed]",
      "text/plain": [
       "<matplotlib.figure.Figure at 0x22c941e6208>"
      ]
     },
     "metadata": {},
     "output_type": "display_data"
    }
   ],
   "source": [
    "if __name__ == \"__main__\":\n",
    "    matriz = []\n",
    "    print(\"\\tN-REINAS\")\n",
    "    print(\"Numero de reinas: \")\n",
    "    Reinas = int(input()) #Numero de Reinas\n",
    "    p,s = AlGenetico(Reinas)\n",
    "    for I in p:\n",
    "        print(I,\"Fitness: \",I.fitness())\n",
    "    print(\"\\tGrafica\")\n",
    "    Grafica(s)\n",
    "    Tablero(Reinas)\n",
    "    Queen(matriz,p[0])\n",
    "    f = open ('TableroNReinas.txt','w') #Abrir el archivo de texto o crearlo en caso de que no exista\n",
    "    for i in matriz:\n",
    "        for j in range(len(i)):\n",
    "            f.write(i[j]+'\\t')\n",
    "        f.write('\\n')\n",
    "    f.close()\n",
    "    plot_Tablero('TableroNReinas.txt')"
   ]
  },
  {
   "cell_type": "code",
   "execution_count": null,
   "metadata": {
    "collapsed": true
   },
   "outputs": [],
   "source": []
  }
 ],
 "metadata": {
  "kernelspec": {
   "display_name": "Python 3",
   "language": "python",
   "name": "python3"
  },
  "language_info": {
   "codemirror_mode": {
    "name": "ipython",
    "version": 3
   },
   "file_extension": ".py",
   "mimetype": "text/x-python",
   "name": "python",
   "nbconvert_exporter": "python",
   "pygments_lexer": "ipython3",
   "version": "3.6.3"
  }
 },
 "nbformat": 4,
 "nbformat_minor": 2
}
